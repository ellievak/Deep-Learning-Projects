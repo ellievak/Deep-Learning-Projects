{
  "nbformat": 4,
  "nbformat_minor": 0,
  "metadata": {
    "colab": {
      "provenance": [],
      "collapsed_sections": [
        "gTgb0z2NaFNC",
        "trOYg-67ajyy",
        "c1UD8sZN-Q0O",
        "PLBWO_GOEaLU",
        "F-WD96WNgm7b"
      ]
    },
    "kernelspec": {
      "name": "python3",
      "display_name": "Python 3"
    },
    "language_info": {
      "name": "python"
    },
    "accelerator": "GPU",
    "widgets": {
      "application/vnd.jupyter.widget-state+json": {
        "b25eaf9beae243f68bea4da130355873": {
          "model_module": "@jupyter-widgets/controls",
          "model_name": "HBoxModel",
          "model_module_version": "1.5.0",
          "state": {
            "_dom_classes": [],
            "_model_module": "@jupyter-widgets/controls",
            "_model_module_version": "1.5.0",
            "_model_name": "HBoxModel",
            "_view_count": null,
            "_view_module": "@jupyter-widgets/controls",
            "_view_module_version": "1.5.0",
            "_view_name": "HBoxView",
            "box_style": "",
            "children": [
              "IPY_MODEL_f7dcdcdcab7b4e88a8110d146d8b64c5",
              "IPY_MODEL_2a1bbe374b6e4b1285bdd3f2f5ca33f6",
              "IPY_MODEL_c0592f45767d4f7cb9dc0a4c21afbb11"
            ],
            "layout": "IPY_MODEL_c672a885db3847cda6bca40e5e7239c8"
          }
        },
        "f7dcdcdcab7b4e88a8110d146d8b64c5": {
          "model_module": "@jupyter-widgets/controls",
          "model_name": "HTMLModel",
          "model_module_version": "1.5.0",
          "state": {
            "_dom_classes": [],
            "_model_module": "@jupyter-widgets/controls",
            "_model_module_version": "1.5.0",
            "_model_name": "HTMLModel",
            "_view_count": null,
            "_view_module": "@jupyter-widgets/controls",
            "_view_module_version": "1.5.0",
            "_view_name": "HTMLView",
            "description": "",
            "description_tooltip": null,
            "layout": "IPY_MODEL_98b6dea35d4d4aafbdfcd83128de9f58",
            "placeholder": "​",
            "style": "IPY_MODEL_0cdd9ba78cde443abd885134a85a52ce",
            "value": "100%"
          }
        },
        "2a1bbe374b6e4b1285bdd3f2f5ca33f6": {
          "model_module": "@jupyter-widgets/controls",
          "model_name": "FloatProgressModel",
          "model_module_version": "1.5.0",
          "state": {
            "_dom_classes": [],
            "_model_module": "@jupyter-widgets/controls",
            "_model_module_version": "1.5.0",
            "_model_name": "FloatProgressModel",
            "_view_count": null,
            "_view_module": "@jupyter-widgets/controls",
            "_view_module_version": "1.5.0",
            "_view_name": "ProgressView",
            "bar_style": "success",
            "description": "",
            "description_tooltip": null,
            "layout": "IPY_MODEL_951e7594b9b8472db2f53b812d1d9612",
            "max": 10,
            "min": 0,
            "orientation": "horizontal",
            "style": "IPY_MODEL_6208fc793d154eb3a07193b717e40667",
            "value": 10
          }
        },
        "c0592f45767d4f7cb9dc0a4c21afbb11": {
          "model_module": "@jupyter-widgets/controls",
          "model_name": "HTMLModel",
          "model_module_version": "1.5.0",
          "state": {
            "_dom_classes": [],
            "_model_module": "@jupyter-widgets/controls",
            "_model_module_version": "1.5.0",
            "_model_name": "HTMLModel",
            "_view_count": null,
            "_view_module": "@jupyter-widgets/controls",
            "_view_module_version": "1.5.0",
            "_view_name": "HTMLView",
            "description": "",
            "description_tooltip": null,
            "layout": "IPY_MODEL_9431eb16a34042d08e883d23362eec5b",
            "placeholder": "​",
            "style": "IPY_MODEL_a8c66d626a0c477481fd2373463e49d7",
            "value": " 10/10 [01:10&lt;00:00,  7.12s/it]"
          }
        },
        "c672a885db3847cda6bca40e5e7239c8": {
          "model_module": "@jupyter-widgets/base",
          "model_name": "LayoutModel",
          "model_module_version": "1.2.0",
          "state": {
            "_model_module": "@jupyter-widgets/base",
            "_model_module_version": "1.2.0",
            "_model_name": "LayoutModel",
            "_view_count": null,
            "_view_module": "@jupyter-widgets/base",
            "_view_module_version": "1.2.0",
            "_view_name": "LayoutView",
            "align_content": null,
            "align_items": null,
            "align_self": null,
            "border": null,
            "bottom": null,
            "display": null,
            "flex": null,
            "flex_flow": null,
            "grid_area": null,
            "grid_auto_columns": null,
            "grid_auto_flow": null,
            "grid_auto_rows": null,
            "grid_column": null,
            "grid_gap": null,
            "grid_row": null,
            "grid_template_areas": null,
            "grid_template_columns": null,
            "grid_template_rows": null,
            "height": null,
            "justify_content": null,
            "justify_items": null,
            "left": null,
            "margin": null,
            "max_height": null,
            "max_width": null,
            "min_height": null,
            "min_width": null,
            "object_fit": null,
            "object_position": null,
            "order": null,
            "overflow": null,
            "overflow_x": null,
            "overflow_y": null,
            "padding": null,
            "right": null,
            "top": null,
            "visibility": null,
            "width": null
          }
        },
        "98b6dea35d4d4aafbdfcd83128de9f58": {
          "model_module": "@jupyter-widgets/base",
          "model_name": "LayoutModel",
          "model_module_version": "1.2.0",
          "state": {
            "_model_module": "@jupyter-widgets/base",
            "_model_module_version": "1.2.0",
            "_model_name": "LayoutModel",
            "_view_count": null,
            "_view_module": "@jupyter-widgets/base",
            "_view_module_version": "1.2.0",
            "_view_name": "LayoutView",
            "align_content": null,
            "align_items": null,
            "align_self": null,
            "border": null,
            "bottom": null,
            "display": null,
            "flex": null,
            "flex_flow": null,
            "grid_area": null,
            "grid_auto_columns": null,
            "grid_auto_flow": null,
            "grid_auto_rows": null,
            "grid_column": null,
            "grid_gap": null,
            "grid_row": null,
            "grid_template_areas": null,
            "grid_template_columns": null,
            "grid_template_rows": null,
            "height": null,
            "justify_content": null,
            "justify_items": null,
            "left": null,
            "margin": null,
            "max_height": null,
            "max_width": null,
            "min_height": null,
            "min_width": null,
            "object_fit": null,
            "object_position": null,
            "order": null,
            "overflow": null,
            "overflow_x": null,
            "overflow_y": null,
            "padding": null,
            "right": null,
            "top": null,
            "visibility": null,
            "width": null
          }
        },
        "0cdd9ba78cde443abd885134a85a52ce": {
          "model_module": "@jupyter-widgets/controls",
          "model_name": "DescriptionStyleModel",
          "model_module_version": "1.5.0",
          "state": {
            "_model_module": "@jupyter-widgets/controls",
            "_model_module_version": "1.5.0",
            "_model_name": "DescriptionStyleModel",
            "_view_count": null,
            "_view_module": "@jupyter-widgets/base",
            "_view_module_version": "1.2.0",
            "_view_name": "StyleView",
            "description_width": ""
          }
        },
        "951e7594b9b8472db2f53b812d1d9612": {
          "model_module": "@jupyter-widgets/base",
          "model_name": "LayoutModel",
          "model_module_version": "1.2.0",
          "state": {
            "_model_module": "@jupyter-widgets/base",
            "_model_module_version": "1.2.0",
            "_model_name": "LayoutModel",
            "_view_count": null,
            "_view_module": "@jupyter-widgets/base",
            "_view_module_version": "1.2.0",
            "_view_name": "LayoutView",
            "align_content": null,
            "align_items": null,
            "align_self": null,
            "border": null,
            "bottom": null,
            "display": null,
            "flex": null,
            "flex_flow": null,
            "grid_area": null,
            "grid_auto_columns": null,
            "grid_auto_flow": null,
            "grid_auto_rows": null,
            "grid_column": null,
            "grid_gap": null,
            "grid_row": null,
            "grid_template_areas": null,
            "grid_template_columns": null,
            "grid_template_rows": null,
            "height": null,
            "justify_content": null,
            "justify_items": null,
            "left": null,
            "margin": null,
            "max_height": null,
            "max_width": null,
            "min_height": null,
            "min_width": null,
            "object_fit": null,
            "object_position": null,
            "order": null,
            "overflow": null,
            "overflow_x": null,
            "overflow_y": null,
            "padding": null,
            "right": null,
            "top": null,
            "visibility": null,
            "width": null
          }
        },
        "6208fc793d154eb3a07193b717e40667": {
          "model_module": "@jupyter-widgets/controls",
          "model_name": "ProgressStyleModel",
          "model_module_version": "1.5.0",
          "state": {
            "_model_module": "@jupyter-widgets/controls",
            "_model_module_version": "1.5.0",
            "_model_name": "ProgressStyleModel",
            "_view_count": null,
            "_view_module": "@jupyter-widgets/base",
            "_view_module_version": "1.2.0",
            "_view_name": "StyleView",
            "bar_color": null,
            "description_width": ""
          }
        },
        "9431eb16a34042d08e883d23362eec5b": {
          "model_module": "@jupyter-widgets/base",
          "model_name": "LayoutModel",
          "model_module_version": "1.2.0",
          "state": {
            "_model_module": "@jupyter-widgets/base",
            "_model_module_version": "1.2.0",
            "_model_name": "LayoutModel",
            "_view_count": null,
            "_view_module": "@jupyter-widgets/base",
            "_view_module_version": "1.2.0",
            "_view_name": "LayoutView",
            "align_content": null,
            "align_items": null,
            "align_self": null,
            "border": null,
            "bottom": null,
            "display": null,
            "flex": null,
            "flex_flow": null,
            "grid_area": null,
            "grid_auto_columns": null,
            "grid_auto_flow": null,
            "grid_auto_rows": null,
            "grid_column": null,
            "grid_gap": null,
            "grid_row": null,
            "grid_template_areas": null,
            "grid_template_columns": null,
            "grid_template_rows": null,
            "height": null,
            "justify_content": null,
            "justify_items": null,
            "left": null,
            "margin": null,
            "max_height": null,
            "max_width": null,
            "min_height": null,
            "min_width": null,
            "object_fit": null,
            "object_position": null,
            "order": null,
            "overflow": null,
            "overflow_x": null,
            "overflow_y": null,
            "padding": null,
            "right": null,
            "top": null,
            "visibility": null,
            "width": null
          }
        },
        "a8c66d626a0c477481fd2373463e49d7": {
          "model_module": "@jupyter-widgets/controls",
          "model_name": "DescriptionStyleModel",
          "model_module_version": "1.5.0",
          "state": {
            "_model_module": "@jupyter-widgets/controls",
            "_model_module_version": "1.5.0",
            "_model_name": "DescriptionStyleModel",
            "_view_count": null,
            "_view_module": "@jupyter-widgets/base",
            "_view_module_version": "1.2.0",
            "_view_name": "StyleView",
            "description_width": ""
          }
        }
      }
    }
  },
  "cells": [
    {
      "cell_type": "markdown",
      "source": [
        "#A Neural Network for handwritten digit recognition using the **MNIST** dataset \n",
        "\n"
      ],
      "metadata": {
        "id": "cZSefZhcZq_X"
      }
    },
    {
      "cell_type": "markdown",
      "source": [
        "##Imports"
      ],
      "metadata": {
        "id": "gTgb0z2NaFNC"
      }
    },
    {
      "cell_type": "code",
      "execution_count": 15,
      "metadata": {
        "id": "iFlDzYbvZWLo"
      },
      "outputs": [],
      "source": [
        "import torch\n",
        "import torchvision\n",
        "from torchvision import datasets\n",
        "from torchvision import transforms\n",
        "from torchvision.transforms import ToTensor\n",
        "from torch import nn\n",
        "import matplotlib.pyplot as plt\n",
        "from torch.utils.data import DataLoader \n",
        "from torch import nn\n",
        "from tqdm.auto import tqdm"
      ]
    },
    {
      "cell_type": "markdown",
      "source": [
        "##Downloading the data"
      ],
      "metadata": {
        "id": "trOYg-67ajyy"
      }
    },
    {
      "cell_type": "code",
      "source": [
        "training_set = datasets.MNIST(\n",
        "    root='data', \n",
        "    train=True, \n",
        "    download=True, \n",
        "    transform=torchvision.transforms.ToTensor(),\n",
        "    target_transform=None\n",
        ")\n",
        "\n",
        "test_set = datasets.MNIST(\n",
        "    root='data',\n",
        "    train=False,\n",
        "    download=True,\n",
        "    transform=ToTensor(),\n",
        "    target_transform=None\n",
        ")"
      ],
      "metadata": {
        "id": "sl6EnlkgaacI"
      },
      "execution_count": 16,
      "outputs": []
    },
    {
      "cell_type": "code",
      "source": [
        "print(f'Number of images in the training set: {len(training_set)}')\n",
        "print(f'Number of images in the test set: {len(test_set)}')"
      ],
      "metadata": {
        "colab": {
          "base_uri": "https://localhost:8080/"
        },
        "id": "VpbNEFLahMOR",
        "outputId": "60f62e4b-5527-45fe-b5b7-fcdb23f7bf20"
      },
      "execution_count": 17,
      "outputs": [
        {
          "output_type": "stream",
          "name": "stdout",
          "text": [
            "Number of images in the training set: 60000\n",
            "Number of images in the test set: 10000\n"
          ]
        }
      ]
    },
    {
      "cell_type": "code",
      "source": [
        "for i in range(0,60000,59999): #labels of first and last sample in training set\n",
        " img, label = training_set[i]\n",
        " print(label)"
      ],
      "metadata": {
        "colab": {
          "base_uri": "https://localhost:8080/"
        },
        "id": "VlxKSXQPhciX",
        "outputId": "54c55eca-3bd6-46e3-aa77-f1fda6040ce1"
      },
      "execution_count": 18,
      "outputs": [
        {
          "output_type": "stream",
          "name": "stdout",
          "text": [
            "5\n",
            "8\n"
          ]
        }
      ]
    },
    {
      "cell_type": "code",
      "source": [
        "i = torch.randint(0, len(training_set), size=[1]).item()\n",
        "img, label = training_set[i]\n",
        "print(f'Shape of image {i} is: {img.shape}, image label: {label}')"
      ],
      "metadata": {
        "colab": {
          "base_uri": "https://localhost:8080/"
        },
        "id": "mYHOd_hFok0R",
        "outputId": "19aa07be-92c0-4203-f7ff-a7b1142050d1"
      },
      "execution_count": 19,
      "outputs": [
        {
          "output_type": "stream",
          "name": "stdout",
          "text": [
            "Shape of image 11189 is: torch.Size([1, 28, 28]), image label: 6\n"
          ]
        }
      ]
    },
    {
      "cell_type": "code",
      "source": [
        "# Classes included in the MNIST dataset\n",
        "classes = training_set.classes \n",
        "classes"
      ],
      "metadata": {
        "colab": {
          "base_uri": "https://localhost:8080/"
        },
        "id": "m9KsG6GvlDkM",
        "outputId": "9c63c9d2-e238-4c7d-8cab-fd7a88924f08"
      },
      "execution_count": 20,
      "outputs": [
        {
          "output_type": "execute_result",
          "data": {
            "text/plain": [
              "['0 - zero',\n",
              " '1 - one',\n",
              " '2 - two',\n",
              " '3 - three',\n",
              " '4 - four',\n",
              " '5 - five',\n",
              " '6 - six',\n",
              " '7 - seven',\n",
              " '8 - eight',\n",
              " '9 - nine']"
            ]
          },
          "metadata": {},
          "execution_count": 20
        }
      ]
    },
    {
      "cell_type": "code",
      "source": [
        "training_set.targets"
      ],
      "metadata": {
        "colab": {
          "base_uri": "https://localhost:8080/"
        },
        "id": "9nnnTnOvnIlW",
        "outputId": "67fcec8b-2aec-461c-8d65-965d4f70bbe4"
      },
      "execution_count": 21,
      "outputs": [
        {
          "output_type": "execute_result",
          "data": {
            "text/plain": [
              "tensor([5, 0, 4,  ..., 5, 6, 8])"
            ]
          },
          "metadata": {},
          "execution_count": 21
        }
      ]
    },
    {
      "cell_type": "markdown",
      "source": [
        "##Data visualization"
      ],
      "metadata": {
        "id": "c1UD8sZN-Q0O"
      }
    },
    {
      "cell_type": "code",
      "source": [
        "# Visualizing a random image of the training set\n",
        "randint = torch.randint(0, len(training_set), size=[1]).item()\n",
        "img, label = training_set[randint]\n",
        "plt.imshow(img.squeeze())\n",
        "plt.title(f'Class: {label}')\n",
        "plt.axis(False);\n",
        "print(f'Image {randint} shape: {img.shape}')"
      ],
      "metadata": {
        "colab": {
          "base_uri": "https://localhost:8080/",
          "height": 0
        },
        "id": "qy2cIqtboLYw",
        "outputId": "8f1ba3af-53e1-4398-ad94-2780a7a38d2a"
      },
      "execution_count": 22,
      "outputs": [
        {
          "output_type": "stream",
          "name": "stdout",
          "text": [
            "Image 28036 shape: torch.Size([1, 28, 28])\n"
          ]
        },
        {
          "output_type": "display_data",
          "data": {
            "text/plain": [
              "<Figure size 432x288 with 1 Axes>"
            ],
            "image/png": "[encoded data removed]"
          },
          "metadata": {
            "needs_background": "light"
          }
        }
      ]
    },
    {
      "cell_type": "code",
      "source": [
        "fig = plt.figure(figsize=(9, 9))\n",
        "rows, cols = 5, 5\n",
        "for i in range(1, rows*cols+1):\n",
        "  randidx = torch.randint(0, len(training_set),  size=[1]).item()\n",
        "  img, label = training_set[randidx]\n",
        "  fig.add_subplot(rows, cols, i)\n",
        "  plt.imshow(img.squeeze())\n",
        "  plt.title(classes[label])\n",
        "  plt.axis(False);"
      ],
      "metadata": {
        "colab": {
          "base_uri": "https://localhost:8080/",
          "height": 0
        },
        "id": "feqbkA3aAMe-",
        "outputId": "8aa31746-9e3c-4a28-e715-25a387276458"
      },
      "execution_count": 23,
      "outputs": [
        {
          "output_type": "display_data",
          "data": {
            "text/plain": [
              "<Figure size 648x648 with 25 Axes>"
            ],
            "image/png": "[encoded data removed]"
          },
          "metadata": {
            "needs_background": "light"
          }
        }
      ]
    },
    {
      "cell_type": "markdown",
      "source": [
        "##Turning data into batches"
      ],
      "metadata": {
        "id": "PLBWO_GOEaLU"
      }
    },
    {
      "cell_type": "code",
      "source": [
        "batch_size = 25 \n",
        "\n",
        "trainDL = DataLoader(dataset=training_set,\n",
        "                              batch_size=batch_size,\n",
        "                              shuffle=True)\n",
        "testDL = DataLoader(dataset=test_set,\n",
        "                             batch_size=batch_size,\n",
        "                             shuffle=False)\n",
        "print(f'DataLoaders: {trainDL, testDL}')\n",
        "print(f'Now we have: \\n {len(trainDL)} batches of {batch_size} samples for training \\n {len(testDL)} batches of {batch_size} samples for testing ')"
      ],
      "metadata": {
        "colab": {
          "base_uri": "https://localhost:8080/"
        },
        "id": "PhaZ5iGmErFZ",
        "outputId": "d3531a80-bf78-4c10-9852-1deeccb064a2"
      },
      "execution_count": 24,
      "outputs": [
        {
          "output_type": "stream",
          "name": "stdout",
          "text": [
            "DataLoaders: (<torch.utils.data.dataloader.DataLoader object at 0x7f8db01fe550>, <torch.utils.data.dataloader.DataLoader object at 0x7f8db01fe590>)\n",
            "Now we have: \n",
            " 2400 batches of 25 samples for training \n",
            " 400 batches of 25 samples for testing \n"
          ]
        }
      ]
    },
    {
      "cell_type": "code",
      "source": [
        "train_x_batch, train_y_batch = next(iter(trainDL))\n",
        "print(f'Shapes of training data: \\n {train_x_batch.shape} -> features \\n {train_y_batch.shape} -> labels')"
      ],
      "metadata": {
        "colab": {
          "base_uri": "https://localhost:8080/"
        },
        "id": "KIrOahfYQTc5",
        "outputId": "61bec2c4-947b-4958-f9fb-c138013ea3c5"
      },
      "execution_count": 25,
      "outputs": [
        {
          "output_type": "stream",
          "name": "stdout",
          "text": [
            "Shapes of training data: \n",
            " torch.Size([25, 1, 28, 28]) -> features \n",
            " torch.Size([25]) -> labels\n"
          ]
        }
      ]
    },
    {
      "cell_type": "code",
      "source": [
        "fig = plt.figure(figsize=(5, 5))\n",
        "rows, cols = 2, 2\n",
        "for i in range(1, rows*cols+1):\n",
        "  fig.add_subplot(rows, cols, i)\n",
        "  if i % 2 == 1:\n",
        "    randnum = torch.randint(0, len(train_x_batch), size=[1]).item()\n",
        "    img, label = train_x_batch[randnum], train_y_batch[randnum]\n",
        "    plt.imshow(img.squeeze())\n",
        "    plt.title(classes[label])\n",
        "  else:\n",
        "    plt.imshow(img.squeeze(), cmap='gray')\n",
        "    plt.title(classes[label])\n",
        "  plt.axis(False)\n",
        "print('Same image coloured vs black and white')"
      ],
      "metadata": {
        "colab": {
          "base_uri": "https://localhost:8080/",
          "height": 0
        },
        "id": "U16cUgE_S5lV",
        "outputId": "6a2c2761-33f7-4abc-f0d4-e563e9acc70a"
      },
      "execution_count": 26,
      "outputs": [
        {
          "output_type": "stream",
          "name": "stdout",
          "text": [
            "Same image coloured vs black and white\n"
          ]
        },
        {
          "output_type": "display_data",
          "data": {
            "text/plain": [
              "<Figure size 360x360 with 4 Axes>"
            ],
            "image/png": "[encoded data removed]"
          },
          "metadata": {
            "needs_background": "light"
          }
        }
      ]
    },
    {
      "cell_type": "markdown",
      "source": [
        "## Model"
      ],
      "metadata": {
        "id": "pXaQUP_QYt1L"
      }
    },
    {
      "cell_type": "code",
      "source": [
        "from torch import nn\n",
        "class MNISTmodel(nn.Module):\n",
        "  def __init__(self,\n",
        "               input_shape: int,\n",
        "               hidden_units: int,\n",
        "               output_shape: int):\n",
        "    super().__init__()\n",
        "    self.layer_stack = nn.Sequential(\n",
        "        nn.Flatten(),\n",
        "        nn.Linear(in_features=input_shape,\n",
        "                  out_features=hidden_units),\n",
        "        nn.Linear(in_features=hidden_units,\n",
        "                  out_features=output_shape)          \n",
        "    )\n",
        "  def forward(self, x):\n",
        "    return self.layer_stack(x)"
      ],
      "metadata": {
        "id": "roVWXjn1DXQL"
      },
      "execution_count": 30,
      "outputs": []
    },
    {
      "cell_type": "code",
      "source": [
        "torch.manual_seed(22)\n",
        "model = MNISTmodel(\n",
        "    input_shape=28*28,\n",
        "    hidden_units=50, \n",
        "    output_shape=len(classes) \n",
        ")\n",
        "\n",
        "model"
      ],
      "metadata": {
        "colab": {
          "base_uri": "https://localhost:8080/"
        },
        "id": "yuTkjol1GCNR",
        "outputId": "9a003ba7-2534-4765-a7c6-8ffa8ea82d8b"
      },
      "execution_count": 31,
      "outputs": [
        {
          "output_type": "execute_result",
          "data": {
            "text/plain": [
              "MNISTmodel(\n",
              "  (layer_stack): Sequential(\n",
              "    (0): Flatten(start_dim=1, end_dim=-1)\n",
              "    (1): Linear(in_features=784, out_features=50, bias=True)\n",
              "    (2): Linear(in_features=50, out_features=10, bias=True)\n",
              "  )\n",
              ")"
            ]
          },
          "metadata": {},
          "execution_count": 31
        }
      ]
    },
    {
      "cell_type": "code",
      "source": [
        "model.state_dict()"
      ],
      "metadata": {
        "id": "Um5TqNSyNzf2",
        "colab": {
          "base_uri": "https://localhost:8080/"
        },
        "outputId": "d1320123-5ce4-44fe-87fb-2254297c0bf5"
      },
      "execution_count": 32,
      "outputs": [
        {
          "output_type": "execute_result",
          "data": {
            "text/plain": [
              "OrderedDict([('layer_stack.1.weight',\n",
              "              tensor([[-0.0096,  0.0145, -0.0135,  ..., -0.0334,  0.0249,  0.0074],\n",
              "                      [ 0.0117,  0.0152,  0.0125,  ..., -0.0011, -0.0145,  0.0271],\n",
              "                      [-0.0101,  0.0101, -0.0341,  ..., -0.0082,  0.0193, -0.0228],\n",
              "                      ...,\n",
              "                      [ 0.0181, -0.0228,  0.0056,  ...,  0.0134, -0.0096,  0.0131],\n",
              "                      [ 0.0046, -0.0285, -0.0213,  ...,  0.0217, -0.0113,  0.0182],\n",
              "                      [-0.0064, -0.0250, -0.0286,  ..., -0.0268,  0.0180, -0.0136]])),\n",
              "             ('layer_stack.1.bias',\n",
              "              tensor([ 0.0011,  0.0337, -0.0150, -0.0231, -0.0054, -0.0225,  0.0051, -0.0117,\n",
              "                      -0.0193, -0.0338, -0.0168,  0.0111,  0.0187,  0.0348,  0.0209,  0.0255,\n",
              "                      -0.0076, -0.0016, -0.0203,  0.0008,  0.0150,  0.0047, -0.0064, -0.0079,\n",
              "                      -0.0332, -0.0318,  0.0157, -0.0025,  0.0025, -0.0082,  0.0269,  0.0172,\n",
              "                      -0.0242,  0.0210, -0.0065,  0.0144,  0.0152, -0.0025,  0.0221,  0.0251,\n",
              "                       0.0252, -0.0083, -0.0299, -0.0216,  0.0207, -0.0247, -0.0038, -0.0062,\n",
              "                      -0.0225, -0.0320])),\n",
              "             ('layer_stack.2.weight',\n",
              "              tensor([[-1.4885e-02, -1.2260e-01, -2.2679e-02,  7.7756e-02,  7.0287e-02,\n",
              "                       -1.2132e-01, -3.0709e-02,  7.3692e-02, -6.5974e-02,  2.1419e-02,\n",
              "                        1.3816e-01,  2.8568e-02,  1.1242e-01, -3.5180e-02, -8.4923e-02,\n",
              "                        1.1687e-02, -7.1086e-02, -1.1853e-01,  8.2663e-02,  3.5135e-02,\n",
              "                       -1.0648e-01,  1.2894e-01,  2.2090e-02, -1.2652e-01,  1.2074e-01,\n",
              "                        1.0906e-01, -6.8155e-02, -9.9422e-02,  8.0329e-02,  1.9632e-02,\n",
              "                       -1.1254e-01, -6.3494e-02, -1.1099e-02, -7.4011e-02,  5.0634e-02,\n",
              "                       -9.1198e-02, -9.0315e-02,  5.3233e-02,  5.9545e-02,  5.6479e-02,\n",
              "                        1.0356e-01,  8.2743e-02, -2.7784e-02, -1.2520e-01, -5.1640e-02,\n",
              "                        1.0998e-01, -1.6915e-02,  6.5461e-04,  3.0695e-02, -2.0797e-02],\n",
              "                      [ 8.1628e-02, -1.3221e-01, -1.0254e-01, -5.5172e-03, -7.6733e-02,\n",
              "                        2.9633e-02,  6.4276e-02,  1.0128e-01, -2.8635e-02,  1.2508e-01,\n",
              "                        1.1050e-01,  1.1829e-01,  1.0743e-01,  1.3452e-01, -1.6947e-02,\n",
              "                        7.0509e-02,  1.1103e-01,  1.0389e-01,  1.0517e-01, -1.1616e-01,\n",
              "                       -4.4711e-02,  1.0277e-01, -7.0391e-02,  1.3637e-01,  3.8400e-02,\n",
              "                       -5.3657e-02,  1.0440e-01, -1.1942e-01,  1.2863e-01, -7.1405e-02,\n",
              "                        5.4680e-02, -1.0746e-01, -4.9397e-02, -1.1232e-01, -3.7649e-02,\n",
              "                       -2.5566e-02,  4.3878e-03,  1.3378e-01,  2.6526e-02,  5.4532e-02,\n",
              "                        1.2092e-01, -5.3508e-02,  6.8502e-02,  6.0901e-02,  2.4487e-02,\n",
              "                        2.5829e-02, -1.0109e-03,  4.5388e-02, -4.0678e-02,  2.8051e-02],\n",
              "                      [ 1.3478e-01, -9.0089e-03,  5.8390e-02,  1.1023e-01, -2.2531e-02,\n",
              "                       -1.7498e-03,  3.8582e-02,  6.8999e-02,  7.7389e-03, -9.0930e-02,\n",
              "                        5.0523e-02, -5.6873e-02, -8.8319e-02, -8.7831e-02,  1.1927e-02,\n",
              "                       -7.2194e-02, -4.6568e-02,  2.5599e-02,  3.7040e-02,  4.7364e-02,\n",
              "                       -6.9904e-02, -1.2498e-01,  6.6349e-02,  1.2117e-01,  1.3408e-01,\n",
              "                       -1.2818e-01, -3.8717e-02,  1.0828e-01, -4.6068e-02, -1.2772e-01,\n",
              "                        9.9223e-02,  1.1284e-01, -8.1034e-02,  6.7767e-02, -1.0574e-01,\n",
              "                        7.9472e-04, -9.9279e-02,  1.3524e-02,  1.8688e-02,  3.9391e-02,\n",
              "                        2.9543e-02, -8.7510e-02,  7.2577e-02,  5.1147e-02,  8.6656e-02,\n",
              "                       -8.4315e-02, -8.4946e-02, -2.2064e-02, -3.1254e-02,  6.2855e-02],\n",
              "                      [-1.2089e-01,  1.7853e-02, -4.9279e-02,  1.0644e-01, -6.2903e-02,\n",
              "                       -1.1872e-01,  1.3541e-03,  5.6568e-02, -1.4993e-02,  4.2586e-02,\n",
              "                       -7.0350e-02,  1.2644e-01, -3.4556e-02,  4.6676e-02, -1.3690e-01,\n",
              "                        1.3217e-01, -5.4584e-02,  1.4056e-01,  1.4102e-01, -3.5946e-03,\n",
              "                        9.9629e-02, -1.3781e-01,  4.2365e-02,  1.1287e-01, -2.4561e-02,\n",
              "                       -9.2543e-02, -1.1391e-01, -1.2170e-01, -6.2624e-02, -7.1428e-03,\n",
              "                       -4.4823e-02, -7.1755e-02,  8.1900e-02, -9.3244e-02,  1.3293e-01,\n",
              "                       -1.2956e-01, -8.3836e-02,  8.6774e-03, -1.4121e-01,  1.0032e-01,\n",
              "                        7.7675e-03,  1.3234e-01,  1.3402e-01, -8.1910e-02, -7.0024e-02,\n",
              "                        4.0454e-03, -1.1677e-01,  8.7950e-02,  1.2137e-02,  9.9729e-02],\n",
              "                      [ 6.2685e-02,  1.0412e-02, -5.7384e-02, -9.0690e-02, -6.4972e-02,\n",
              "                       -6.2051e-02, -6.3623e-02, -8.1045e-02, -1.7060e-02,  8.5575e-02,\n",
              "                        2.9062e-03,  1.3060e-01,  6.7154e-02, -1.3469e-02,  4.4709e-03,\n",
              "                       -2.7720e-02, -5.5792e-02, -1.2138e-01,  6.0071e-02,  1.1795e-01,\n",
              "                       -1.3936e-01,  1.3938e-01,  8.2360e-02,  8.3346e-02,  1.2771e-01,\n",
              "                       -1.0187e-01, -7.6547e-02, -5.4509e-02,  5.9546e-02,  1.2998e-01,\n",
              "                       -1.2817e-01,  4.0283e-02, -7.0229e-03,  1.1390e-01, -1.3094e-02,\n",
              "                        5.2548e-02,  3.2267e-02,  1.4214e-02, -3.9219e-02, -1.1117e-01,\n",
              "                       -6.5853e-02,  3.4070e-02, -4.1802e-02, -1.3630e-01,  9.9151e-02,\n",
              "                       -1.4086e-01, -9.0595e-02, -6.5506e-02,  3.7256e-02, -6.2558e-03],\n",
              "                      [ 1.2234e-01,  5.9565e-02,  4.0433e-02,  8.9844e-02,  4.4672e-03,\n",
              "                       -9.9697e-02,  1.3292e-01,  1.1402e-01,  1.3340e-01,  1.0596e-01,\n",
              "                        1.0705e-02, -3.1407e-02,  9.1993e-02, -1.2799e-01,  1.2244e-01,\n",
              "                       -3.3301e-02, -6.6204e-02, -1.1616e-01, -3.6479e-02, -7.1333e-02,\n",
              "                        8.3333e-02,  1.4667e-02, -9.5371e-02, -1.2002e-01, -5.2589e-02,\n",
              "                        1.2672e-01, -5.4783e-02,  3.4514e-02,  1.5202e-03,  2.3127e-02,\n",
              "                       -1.2098e-01, -9.4894e-02, -1.0329e-01, -6.8361e-02,  6.9311e-02,\n",
              "                       -1.0930e-01, -2.3721e-02, -4.0833e-02,  1.4133e-01, -6.0716e-02,\n",
              "                       -4.5021e-03, -1.2018e-01, -6.0478e-02,  3.6411e-02,  1.2039e-01,\n",
              "                       -2.6699e-02,  1.2170e-01,  1.1953e-01,  8.3621e-02, -9.8683e-02],\n",
              "                      [-1.3720e-01, -6.6835e-02, -5.8748e-02,  1.6651e-02, -1.1705e-01,\n",
              "                        3.8006e-02,  1.0368e-02,  7.0837e-02,  8.5019e-02,  1.0287e-01,\n",
              "                        1.3062e-02, -1.2080e-01, -5.3004e-02, -9.7723e-02,  6.7985e-02,\n",
              "                        5.0621e-03, -5.5759e-02,  9.8035e-02, -8.4882e-02,  2.8133e-02,\n",
              "                       -1.3991e-01, -3.4807e-02,  2.8504e-02, -6.0098e-02,  6.3946e-02,\n",
              "                       -5.7033e-02,  1.0563e-01, -1.3947e-01,  1.0413e-01,  7.4731e-02,\n",
              "                        6.1065e-02,  5.1361e-02,  7.9498e-02,  7.4063e-02, -8.1133e-02,\n",
              "                        1.3545e-01,  4.2428e-03,  1.2308e-01,  8.9436e-02, -9.2479e-02,\n",
              "                        8.1405e-02, -1.2411e-02, -8.5235e-02, -1.3865e-01, -6.4502e-02,\n",
              "                        7.3379e-02,  1.0010e-01,  1.1682e-01,  9.0388e-02, -1.2228e-01],\n",
              "                      [-8.0603e-02, -2.4491e-02,  1.3480e-01, -6.0628e-02, -3.8087e-02,\n",
              "                        2.7040e-02,  8.7225e-02,  7.9865e-02,  7.4561e-03, -9.9179e-02,\n",
              "                       -5.2997e-02,  9.7375e-02,  5.0351e-02,  4.8396e-02, -3.4859e-02,\n",
              "                       -1.0465e-01, -5.3342e-03, -8.8152e-03, -7.2078e-02,  5.9995e-02,\n",
              "                        7.5364e-02,  1.2689e-01, -4.5190e-02,  6.2485e-02,  3.7935e-02,\n",
              "                        1.3071e-01, -4.4801e-02, -7.7889e-02,  2.4451e-02,  4.7500e-02,\n",
              "                       -5.6407e-02,  1.1718e-01, -1.1242e-01,  1.0202e-01, -4.4747e-02,\n",
              "                        2.0970e-02,  4.4308e-02, -2.7454e-02, -1.1330e-02, -6.2761e-02,\n",
              "                        1.3878e-02,  4.3997e-02, -1.4601e-02,  6.0865e-02,  4.8260e-02,\n",
              "                        1.2696e-01,  4.1867e-02,  1.0309e-01,  2.5264e-02, -8.7313e-03],\n",
              "                      [-9.7133e-02,  9.9577e-03,  1.2182e-01, -1.3322e-01, -1.1033e-01,\n",
              "                       -1.1141e-01,  1.1697e-01,  1.1530e-01, -2.0134e-02, -5.3451e-02,\n",
              "                        1.2799e-01, -1.3557e-01,  8.1047e-02, -2.3006e-02, -4.5286e-02,\n",
              "                        9.7414e-02,  1.3450e-01, -8.5955e-02,  1.4034e-01, -6.8368e-02,\n",
              "                       -1.0319e-01,  9.3503e-02, -8.4650e-02, -6.2772e-02, -2.3738e-02,\n",
              "                        1.0038e-04, -1.2698e-01,  5.6778e-02, -1.5790e-02,  9.1637e-03,\n",
              "                       -4.9414e-02, -1.2451e-01,  1.1105e-01,  1.0303e-01, -1.0632e-01,\n",
              "                       -1.3568e-01, -9.5673e-02, -1.2727e-04, -1.0736e-01,  3.4906e-03,\n",
              "                       -6.3474e-02, -6.4175e-02,  1.3003e-01,  9.0639e-02, -9.9162e-02,\n",
              "                        7.7482e-02, -7.4889e-02,  9.8913e-02, -8.3177e-02, -4.1371e-02],\n",
              "                      [ 4.2553e-02,  1.1123e-01,  1.0857e-01,  1.3793e-01,  1.3483e-03,\n",
              "                       -7.8130e-02, -1.0092e-01,  4.0715e-02, -5.5096e-02,  2.2794e-02,\n",
              "                        7.1964e-02,  3.4879e-02,  1.3654e-01, -9.0307e-02, -7.8509e-02,\n",
              "                       -3.7534e-02,  1.2726e-01,  3.7573e-02,  7.8445e-02,  2.2805e-02,\n",
              "                        2.2477e-02, -4.7222e-02, -8.2399e-02,  4.7650e-02, -6.3168e-02,\n",
              "                        5.9772e-03, -7.8301e-02,  6.7327e-02,  5.6120e-02, -1.1529e-01,\n",
              "                       -5.5055e-02, -2.8965e-02, -9.5773e-03,  3.2228e-02, -1.3031e-01,\n",
              "                        7.0823e-02, -3.2083e-02,  7.1401e-02,  8.1577e-02, -8.3215e-03,\n",
              "                        8.1488e-02,  1.0109e-01, -7.5067e-02,  6.4851e-03, -4.2370e-02,\n",
              "                       -8.9888e-02,  1.2704e-01, -9.5687e-02, -6.7826e-02,  3.3934e-02]])),\n",
              "             ('layer_stack.2.bias',\n",
              "              tensor([-0.0800,  0.0294,  0.0986, -0.0815,  0.0938,  0.0654,  0.0534,  0.0600,\n",
              "                       0.0534, -0.0362]))])"
            ]
          },
          "metadata": {},
          "execution_count": 32
        }
      ]
    },
    {
      "cell_type": "code",
      "source": [
        "def accuracy_fn(y_true, y_pred):\n",
        "    correct = torch.eq(y_true, y_pred).sum().item()\n",
        "    acc = (correct / len(y_pred)) * 100\n",
        "    return acc\n",
        "loss_fn = nn.CrossEntropyLoss()\n",
        "optimizer = torch.optim.SGD(params=model.parameters(),\n",
        "                            lr=0.1)  "
      ],
      "metadata": {
        "id": "1W6Te2tZbVzY"
      },
      "execution_count": 33,
      "outputs": []
    },
    {
      "cell_type": "code",
      "source": [
        "torch.manual_seed(42)\n",
        "\n",
        "epochs = 10 \n",
        "\n",
        "for epoch in tqdm(range(epochs)):\n",
        "\n",
        "  train_loss = 0\n",
        "  \n",
        "  for batch, (X, y) in enumerate(trainDL):\n",
        "    model.train()\n",
        "    y_pred = model(X)\n",
        "    loss = loss_fn(y_pred, y)\n",
        "    train_loss += loss \n",
        "    optimizer.zero_grad()\n",
        "    loss.backward()\n",
        "    optimizer.step()\n",
        "  \n",
        "  train_loss /= len(trainDL)\n",
        "  test_loss, test_acc = 0, 0\n",
        "\n",
        "  model.eval()\n",
        "  with torch.inference_mode():\n",
        "    for X_test, y_test in testDL:     \n",
        "      test_pred = model(X_test)\n",
        "      test_loss += loss_fn(test_pred, y_test)\n",
        "      test_acc += accuracy_fn(y_true=y_test, y_pred=test_pred.argmax(dim=1))\n",
        "\n",
        "    test_loss /= len(testDL)\n",
        "    test_acc /= len(testDL)\n",
        "\n",
        "  print(f'Epoch {epoch}: \\nTrain loss -> {train_loss:.4f} | Test loss -> {test_loss:.4f} | Test accuracy -> {test_acc:.4f}\\n------')\n",
        "\n"
      ],
      "metadata": {
        "id": "VO7izZOWcAGm",
        "colab": {
          "base_uri": "https://localhost:8080/",
          "height": 570,
          "referenced_widgets": [
            "b25eaf9beae243f68bea4da130355873",
            "f7dcdcdcab7b4e88a8110d146d8b64c5",
            "2a1bbe374b6e4b1285bdd3f2f5ca33f6",
            "c0592f45767d4f7cb9dc0a4c21afbb11",
            "c672a885db3847cda6bca40e5e7239c8",
            "98b6dea35d4d4aafbdfcd83128de9f58",
            "0cdd9ba78cde443abd885134a85a52ce",
            "951e7594b9b8472db2f53b812d1d9612",
            "6208fc793d154eb3a07193b717e40667",
            "9431eb16a34042d08e883d23362eec5b",
            "a8c66d626a0c477481fd2373463e49d7"
          ]
        },
        "outputId": "bd401467-0d03-4b57-c0ba-707984d7c4e0"
      },
      "execution_count": 34,
      "outputs": [
        {
          "output_type": "display_data",
          "data": {
            "text/plain": [
              "  0%|          | 0/10 [00:00<?, ?it/s]"
            ],
            "application/vnd.jupyter.widget-view+json": {
              "version_major": 2,
              "version_minor": 0,
              "model_id": "b25eaf9beae243f68bea4da130355873"
            }
          },
          "metadata": {}
        },
        {
          "output_type": "stream",
          "name": "stdout",
          "text": [
            "Epoch 0: \n",
            "Train loss -> 0.3858 | Test loss -> 0.2929 | Test accuracy -> 91.7100\n",
            "------\n",
            "Epoch 1: \n",
            "Train loss -> 0.3108 | Test loss -> 0.2893 | Test accuracy -> 91.9400\n",
            "------\n",
            "Epoch 2: \n",
            "Train loss -> 0.2993 | Test loss -> 0.2917 | Test accuracy -> 91.8000\n",
            "------\n",
            "Epoch 3: \n",
            "Train loss -> 0.2949 | Test loss -> 0.2883 | Test accuracy -> 91.7300\n",
            "------\n",
            "Epoch 4: \n",
            "Train loss -> 0.2899 | Test loss -> 0.2830 | Test accuracy -> 92.0800\n",
            "------\n",
            "Epoch 5: \n",
            "Train loss -> 0.2869 | Test loss -> 0.2926 | Test accuracy -> 91.6500\n",
            "------\n",
            "Epoch 6: \n",
            "Train loss -> 0.2826 | Test loss -> 0.2970 | Test accuracy -> 92.0000\n",
            "------\n",
            "Epoch 7: \n",
            "Train loss -> 0.2818 | Test loss -> 0.2950 | Test accuracy -> 91.5200\n",
            "------\n",
            "Epoch 8: \n",
            "Train loss -> 0.2787 | Test loss -> 0.2922 | Test accuracy -> 91.7800\n",
            "------\n",
            "Epoch 9: \n",
            "Train loss -> 0.2781 | Test loss -> 0.2931 | Test accuracy -> 92.0700\n",
            "------\n"
          ]
        }
      ]
    },
    {
      "cell_type": "markdown",
      "source": [
        "##Results "
      ],
      "metadata": {
        "id": "F-WD96WNgm7b"
      }
    },
    {
      "cell_type": "code",
      "source": [
        "torch.manual_seed(42)\n",
        "def evaluation(model: torch.nn.Module,\n",
        "               data_loader: torch.utils.data.DataLoader,\n",
        "               loss_fn: torch.nn.Module,\n",
        "               accuracy_fn):\n",
        "  \n",
        "  loss, acc = 0, 0\n",
        "  model.eval()\n",
        "  with torch.inference_mode():\n",
        "    for X, y in data_loader:\n",
        "      y_pred = model(X)\n",
        "\n",
        "      loss += loss_fn(y_pred, y)\n",
        "      acc += accuracy_fn(y_true=y,\n",
        "                         y_pred=y_pred.argmax(dim=1))\n",
        "\n",
        "    loss /= len(data_loader)\n",
        "    acc /= len(data_loader)\n",
        "\n",
        "  return {'model name': model.__class__.__name__,\n",
        "          'model loss': loss.item(),\n",
        "          'model accuracy': acc}\n",
        "print(f'Model performance on the test dataset')\n",
        "model_results = evaluation(model=model,\n",
        "                             data_loader=testDL,\n",
        "                             loss_fn=loss_fn,\n",
        "                             accuracy_fn=accuracy_fn)\n",
        "model_results"
      ],
      "metadata": {
        "id": "qeO33wT0b7lI",
        "colab": {
          "base_uri": "https://localhost:8080/"
        },
        "outputId": "6e041805-a9e5-4f68-a136-1ae29ee83e96"
      },
      "execution_count": 35,
      "outputs": [
        {
          "output_type": "stream",
          "name": "stdout",
          "text": [
            "Model performance on the test dataset\n"
          ]
        },
        {
          "output_type": "execute_result",
          "data": {
            "text/plain": [
              "{'model name': 'MNISTmodel',\n",
              " 'model loss': 0.2930912673473358,\n",
              " 'model accuracy': 92.07}"
            ]
          },
          "metadata": {},
          "execution_count": 35
        }
      ]
    }
  ]
}